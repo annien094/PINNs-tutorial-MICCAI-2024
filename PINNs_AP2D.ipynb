{
  "cells": [
    {
      "cell_type": "markdown",
      "metadata": {
        "id": "view-in-github",
        "colab_type": "text"
      },
      "source": [
        "<a href=\"https://colab.research.google.com/github/annien094/PINNs-tutorial-MICCAI-2024/blob/main/PINNs_AP2D.ipynb\" target=\"_parent\"><img src=\"https://colab.research.google.com/assets/colab-badge.svg\" alt=\"Open In Colab\"/></a>"
      ]
    },
    {
      "cell_type": "markdown",
      "metadata": {
        "id": "xBx2-sTPXl33"
      },
      "source": [
        "**Welcome to the second part of the PINNs tutorial!**\n",
        "\n",
        "In this notebook, we will set up a PINN to solve the Aliev-Panfilov model that describes the electrical potential propagation in the heart.\n",
        "\n",
        "We will be using a data file **APdata.mat**. Make sure you have the data file in your Drive where you save this notebook so the data can be loaded."
      ]
    },
    {
      "cell_type": "markdown",
      "metadata": {
        "id": "Ow--mP73X5q9"
      },
      "source": [
        "## Set up: install and import required packages"
      ]
    },
    {
      "cell_type": "markdown",
      "source": [
        "Note: it will be useful to connect to a GPU for this tutorial. Select **Runtime** -> **Change runtime type** -> select the GPU available eg. T4 GPU, before running the cell below."
      ],
      "metadata": {
        "id": "vBfV5mVJj4P7"
      }
    },
    {
      "cell_type": "code",
      "execution_count": null,
      "metadata": {
        "id": "GiaHOqJqw8m8",
        "collapsed": true
      },
      "outputs": [],
      "source": [
        "from google.colab import drive\n",
        "drive.mount('/content/drive',force_remount=True)\n",
        "%cd /content/drive/MyDrive/\n",
        "## change to wherever you have the data file stored\n",
        "\n",
        "# Setup\n",
        "!pip install --upgrade tensorflow==2.17\n",
        "!pip install --upgrade tensorflow-probability==0.24\n",
        "!pip install --upgrade tf-keras==2.17\n",
        "!pip install --upgrade deepxde==1.12.1\n",
        "#!pip install --upgrade numpy\n",
        "!pip install --upgrade matplotlib\n",
        "\n",
        "from sklearn.model_selection import train_test_split\n",
        "import matplotlib.pyplot as plt\n",
        "import argparse\n",
        "import scipy.io\n",
        "import numpy as np\n",
        "import deepxde as dde #1.12.0\n",
        "from deepxde.backend import tensorflow\n",
        "# import warnings\n",
        "# warnings.filterwarnings(\"ignore\")\n",
        "# module load cuda if needed"
      ]
    },
    {
      "cell_type": "markdown",
      "metadata": {
        "id": "U325ZtoMar4B"
      },
      "source": [
        "## PINNs setup"
      ]
    },
    {
      "cell_type": "markdown",
      "metadata": {
        "id": "wv7Z9TJgYC63"
      },
      "source": [
        "First, let's set up the hyperparameters of the network."
      ]
    },
    {
      "cell_type": "code",
      "execution_count": 2,
      "metadata": {
        "id": "_TuMC95Ow8m9"
      },
      "outputs": [],
      "source": [
        "# Training Parameters\n",
        "num_domain = 20000 # number of training points within the domain\n",
        "num_boundary = 1000 # number of training boundary condition points on the geometry boundary\n",
        "num_test = 1000 # number of testing points within the domain\n",
        "MAX_MODEL_INIT = 5 # maximum number of times allowed to initialize the model\n",
        "MAX_LOSS = 0.1 # upper limit to the initialized loss\n",
        "epochs_init = 15000 # number of epochs for training initial phase\n",
        "epochs_main = 400000 # number of epochs for main training phase\n",
        "lr = 0.0005 # learning rate\n",
        "test_size = 0.6 # split, fraction saved for test\n",
        "input = 3\n",
        "num_hidden_layers = 3\n",
        "hidden_layer_size = 30\n",
        "output = 2\n",
        "out_path = 'AP1/'"
      ]
    },
    {
      "cell_type": "markdown",
      "metadata": {
        "id": "-nu4silIa04W"
      },
      "source": [
        "Let's also set the parameters for the Aliev Panfilov model."
      ]
    },
    {
      "cell_type": "code",
      "execution_count": 3,
      "metadata": {
        "id": "ekwJHVvBw8m9"
      },
      "outputs": [],
      "source": [
        "# Aliev Panfilov model parameters\n",
        "a = 0.01\n",
        "b = 0.15\n",
        "D = 0.1\n",
        "k = 8.0\n",
        "mu_1 = 0.2\n",
        "mu_2 = 0.3\n",
        "epsilon = 0.002"
      ]
    },
    {
      "cell_type": "markdown",
      "metadata": {
        "id": "_56fTsq3a_cb"
      },
      "source": [
        "Now, we load the training data, which was generated using a finite differences solver in Matlab."
      ]
    },
    {
      "cell_type": "code",
      "execution_count": 4,
      "metadata": {
        "colab": {
          "base_uri": "https://localhost:8080/"
        },
        "id": "KQpPvtZGw8m9",
        "outputId": "78eed8fb-bbaa-49af-95b1-00d7aa9c473e"
      },
      "outputs": [
        {
          "output_type": "stream",
          "name": "stdout",
          "text": [
            "/content/drive/MyDrive\n"
          ]
        }
      ],
      "source": [
        "# GT data loading\n",
        "file_name = \"APdata.mat\"\n",
        "!pwd\n",
        "data = scipy.io.loadmat(file_name,squeeze_me=True)\n",
        "\n",
        "tlin, xlin, ylin, vlin, Vsav, o_in, v_in, wlin = data[\"tlin\"], data[\"xlin\"], data[\"ylin\"], data[\"vlin\"], data[\"Vsav\"], data[\"observe_in\"], data[\"v_in\"], data[\"wlin\"]\n",
        "\n",
        "max_t = np.max(tlin)\n",
        "max_x = np.max(xlin)\n",
        "max_y = np.max(ylin)\n",
        "min_t = np.min(tlin)\n",
        "min_x = np.min(xlin)\n",
        "min_y = np.min(ylin)\n",
        "X = xlin.reshape(-1, 1)\n",
        "Y = ylin.reshape(-1, 1)\n",
        "T = tlin.reshape(-1, 1)\n",
        "V = vlin.reshape(-1, 1)\n",
        "W = wlin.reshape(-1, 1)\n",
        "spacing = xlin[1]-xlin[0]\n",
        "\n",
        "observe_x = np.hstack((X, Y, T))"
      ]
    },
    {
      "cell_type": "markdown",
      "metadata": {
        "id": "MYHsFqWcYY-V"
      },
      "source": [
        "**Exercise**: define a function called pde that takes the network's input x and output y input, and return the residual between the network's predictions and the equations.\n",
        "\n",
        "The Aliev-Panfilov equations are as follows:\n",
        "\n",
        "$$\n",
        "\\frac{\\partial V}{\\partial t} = \\nabla \\cdot (D \\nabla V) - kV (V - a) (V - 1) - VW\n",
        "$$\n",
        "\n",
        "$$\n",
        "\\frac{dW}{dt} = \\left( \\epsilon + \\frac{\\mu_1 W}{V + \\mu_2} \\right) \\left( -W - kV (V - b - 1) \\right).\n",
        "$$\n",
        "\n",
        "V(x, y, t) is the transmembrane potential, for which we have some experimental data. W(x, y, t) is a latent variable that is not measurable. We will solve the coupled systems for both variables in this exercise."
      ]
    },
    {
      "cell_type": "code",
      "execution_count": null,
      "metadata": {
        "id": "f58RG3rtaLq_"
      },
      "outputs": [],
      "source": [
        "# Complete the unfinished code\n",
        "def pde(x, y):\n",
        "\n",
        "    V, W = y[:, 0:1], y[:, 1:2]\n",
        "\n",
        "    dv_dt = #...\n",
        "    dv_dxx = #...\n",
        "    dv_dyy = #...\n",
        "    dw_dt = #...\n",
        "\n",
        "    eq_a = #...\n",
        "    eq_b = #...\n",
        "    return [eq_a, eq_b]"
      ]
    },
    {
      "cell_type": "code",
      "execution_count": 5,
      "metadata": {
        "id": "HxRbtc6iw8m9"
      },
      "outputs": [],
      "source": [
        "# @title Solution\n",
        "def pde(x, y):\n",
        "\n",
        "    V, W = y[:, 0:1], y[:, 1:2]\n",
        "#\n",
        "    dv_dt = dde.grad.jacobian(y, x, i=0, j=2)\n",
        "    dv_dxx = dde.grad.hessian(y, x, component=0, i=0, j=0)\n",
        "    dv_dyy = dde.grad.hessian(y, x, component=0, i=1, j=1)\n",
        "    dw_dt = dde.grad.jacobian(y, x, i=1, j=2)\n",
        "\n",
        "    eq_a = dv_dt -  D*(dv_dxx + dv_dyy) + k*V*(V-a)*(V-1) +W*V\n",
        "    eq_b = dw_dt -  (epsilon + (mu_1*W)/(mu_2+V))*(-W -k*V*(V-b-1))\n",
        "    return [eq_a, eq_b]"
      ]
    },
    {
      "cell_type": "markdown",
      "metadata": {
        "id": "J6W_77Ftb5e-"
      },
      "source": [
        "We define:\n",
        "\n",
        "\n",
        "*   IC_func, taking the training data points near time zero as the initial conditions.\n",
        "*   BC_func, to employ the no-flux Neumann boundary condition. This is to prevent a leakage of V (potential) to regions outside the heart domain.\n",
        "\n",
        "We then split the loaded data randomly into a train and a test set using `train_test_split()`.\n",
        "\n"
      ]
    },
    {
      "cell_type": "code",
      "execution_count": 6,
      "metadata": {
        "id": "n1yYHA8hc8PQ"
      },
      "outputs": [],
      "source": [
        "# Initial and boundary conditions\n",
        "def IC_func(observe_train, v_train):\n",
        "\n",
        "    T_ic = observe_train[:,-1].reshape(-1,1)\n",
        "    idx_init = np.where(np.isclose(T_ic,0))[0]\n",
        "    v_init = v_train[idx_init]\n",
        "    observe_init = observe_train[idx_init]\n",
        "    print(np.shape(v_init))\n",
        "    print(np.shape(observe_init))\n",
        "    return dde.PointSetBC(observe_init,v_init,component=0)\n",
        "\n",
        "def boundary_func_2d(x, on_boundary):\n",
        "    return on_boundary and ~(x[0:2]==[min_x,min_y]).all() and  ~(x[0:2]==[min_x,max_y]).all() and ~(x[0:2]==[max_x,min_y]).all()  and  ~(x[0:2]==[max_x,max_y]).all()\n",
        "\n",
        "def BC_func(geomtime):\n",
        "    bc = dde.NeumannBC(geomtime, lambda x:  np.zeros((len(x), 1)), boundary_func_2d, component=0)\n",
        "    return bc\n",
        "\n",
        "\n",
        "observe_train, observe_test, v_train, v_test = train_test_split(observe_x,V,test_size=test_size)"
      ]
    },
    {
      "cell_type": "markdown",
      "metadata": {
        "id": "v18T45Z1dE_I"
      },
      "source": [
        "**Exercise**: define the geometry of the problem as before. Note that we have a 2D spatial geometry and a temporal interval in this problem.\n",
        "We also need to define the initial conditions for both equations and set up the experimental data for V."
      ]
    },
    {
      "cell_type": "code",
      "execution_count": null,
      "metadata": {
        "id": "m19hOu63hVJt",
        "collapsed": true
      },
      "outputs": [],
      "source": [
        "# Complete the unfinished code\n",
        "geom = dde.geometry.Rectangle(...)\n",
        "timedomain = dde.geometry.TimeDomain(...)\n",
        "geomtime = dde.geometry.GeometryXTime(geom, timedomain)\n",
        "\n",
        "## Define Boundary Conditions\n",
        "bc = BC_func(geomtime)\n",
        "\n",
        "## Define Initial Conditions\n",
        "# Use the simulated data and the functions above\n",
        "ic1 = IC_func() # this is the initial condition for V\n",
        "ic2 = IC_func() # this is the initial condition for W,\n",
        "# which should be 0 everywhere\n",
        "\n",
        "## Include observed data as inputs to the network\n",
        "# We only have observed data for V\n",
        "observe_v = dde.PointSetBC(observe_train, v_train, component=0)\n",
        "input_data = [bc, ic1, ic2, observe_v]"
      ]
    },
    {
      "cell_type": "code",
      "execution_count": 7,
      "metadata": {
        "colab": {
          "base_uri": "https://localhost:8080/"
        },
        "id": "UVbhlTz1w8m-",
        "outputId": "468cd919-d83f-4f1b-9625-660a25890da0",
        "cellView": "form"
      },
      "outputs": [
        {
          "output_type": "stream",
          "name": "stdout",
          "text": [
            "(3642, 1)\n",
            "(3642, 3)\n",
            "(3642, 1)\n",
            "(3642, 3)\n"
          ]
        }
      ],
      "source": [
        "# @title Solution\n",
        "geom = dde.geometry.Rectangle([min_x,min_y], [max_x,max_y])\n",
        "timedomain = dde.geometry.TimeDomain(min_t, max_t)\n",
        "geomtime = dde.geometry.GeometryXTime(geom, timedomain)\n",
        "\n",
        "## Define Boundary Conditions\n",
        "bc = BC_func(geomtime)\n",
        "\n",
        "## Define Initial Conditions\n",
        "ic1 = IC_func(observe_train, v_train)\n",
        "ic2 = IC_func(observe_train, np.zeros_like(v_train))\n",
        "\n",
        "## Include observed data as inputs to the network\n",
        "observe_v = dde.PointSetBC(observe_train, v_train, component=0)\n",
        "input_data = [bc, ic1, ic2, observe_v]"
      ]
    },
    {
      "cell_type": "markdown",
      "metadata": {
        "id": "LZG2OaGbbT4v"
      },
      "source": [
        "As before, we need to create\n",
        "\n",
        "*   net\n",
        "*   data\n",
        "\n",
        "And then combine then into a Model.\n",
        "\n"
      ]
    },
    {
      "cell_type": "code",
      "execution_count": 8,
      "metadata": {
        "id": "V7MvwwmUNTwY",
        "colab": {
          "base_uri": "https://localhost:8080/"
        },
        "outputId": "d9ad0c8b-d706-4e2d-eea4-65ecf787d772"
      },
      "outputs": [
        {
          "output_type": "stream",
          "name": "stdout",
          "text": [
            "Warning: 39 points required, but 42 points sampled.\n",
            "Warning: 1000 points required, but 1092 points sampled.\n",
            "Compiling model...\n",
            "Building feed-forward neural network...\n",
            "'build' took 0.247488 s\n",
            "\n",
            "Warning: Rectangle boundary_normal called on vertices. You may use PDE(..., exclusions=...) to exclude the vertices.\n",
            "Warning: Rectangle boundary_normal called on vertices. You may use PDE(..., exclusions=...) to exclude the vertices.\n",
            "'compile' took 3.759797 s\n",
            "\n"
          ]
        }
      ],
      "source": [
        "net = dde.maps.FNN([input] + [hidden_layer_size] * num_hidden_layers + [output], \"tanh\", \"Glorot uniform\")\n",
        "pde_data = dde.data.TimePDE(geomtime, pde, input_data,\n",
        "                            num_domain = num_domain,\n",
        "                            num_boundary=num_boundary,\n",
        "                            anchors=observe_train,\n",
        "                            num_test=num_test)\n",
        "model = dde.Model(pde_data, net)\n",
        "model.compile(\"adam\", lr=lr)"
      ]
    },
    {
      "cell_type": "markdown",
      "metadata": {
        "id": "GCDiDoxQshcF"
      },
      "source": [
        "Here, we define a scheme to cap the initial loss from the network. We only allow the network to continue training if the initial loss is lower than a threshold. Otherwise, we will re-initialise the network."
      ]
    },
    {
      "cell_type": "code",
      "execution_count": 21,
      "metadata": {
        "id": "raf_TBksw8m-"
      },
      "outputs": [],
      "source": [
        "def stable_init(model):\n",
        "    ## Stabilize initialization process by capping the losses\n",
        "    losshistory, _ = model.train(epochs=1)\n",
        "    initial_loss = max(losshistory.loss_train[0])\n",
        "    num_init = 1\n",
        "    while initial_loss>MAX_LOSS or np.isnan(initial_loss):\n",
        "        num_init += 1\n",
        "        model = dde.Model(pde_data, net)\n",
        "        model.compile(\"adam\", lr=lr)\n",
        "        losshistory, _ = model.train(epochs=1)\n",
        "        initial_loss = max(losshistory.loss_train[0])\n",
        "        if num_init > MAX_MODEL_INIT:\n",
        "            raise ValueError('Model initialization phase exceeded the allowed limit')\n",
        "    return 0"
      ]
    },
    {
      "cell_type": "markdown",
      "metadata": {
        "id": "YxvjvOSfs5r_"
      },
      "source": [
        "Now, let's customise a model training funtion with 3 phases:\n",
        "\n",
        "\n",
        "1.   train with data loss only, using Adam (Hint: use the `loss_weights` argument in `model.compile()` to set the other loss terms to zero.)\n",
        "2.   train with all loss terms, using Adam\n",
        "3.   train with all loss terms, using L-BFGS-B to help with convergence\n",
        "\n",
        "We then train the model. Feel free to try both the 3-phase training and 1-phase training schemes. Do you observe any differences in the performance?\n"
      ]
    },
    {
      "cell_type": "code",
      "execution_count": null,
      "metadata": {
        "id": "6t59Rn81s6LR",
        "collapsed": true
      },
      "outputs": [],
      "source": [
        "def train_3_phase(out_path):\n",
        "    init_weights = #...\n",
        "\n",
        "    ## Initial phase with data term only\n",
        "    model.compile(\"adam\", lr=lr, loss_weights=init_weights)\n",
        "    losshistory, train_state = model.train(iterations=epochs_init, model_save_path = out_path)\n",
        "\n",
        "    ## Main phase with all terms\n",
        "\n",
        "\n",
        "    ## Final phase with L-BFGS-B\n",
        "\n",
        "\n",
        "    return losshistory, train_state\n",
        "\n",
        "def train_1_phase(out_path):\n",
        "    losshistory, train_state = model.train(iterations=10000, model_save_path = out_path)\n",
        "    return losshistory, train_state\n",
        "\n",
        "# stable_init(model)\n",
        "# losshistory, train_state = train_3_phases(model, out_path)\n",
        "losshistory, train_state = train_1_phase(out_path)"
      ]
    },
    {
      "cell_type": "code",
      "execution_count": 9,
      "metadata": {
        "colab": {
          "base_uri": "https://localhost:8080/"
        },
        "id": "ADnWaKv4w8m_",
        "outputId": "a81a495b-e6ec-4b49-aa47-242b6f8ea243"
      },
      "outputs": [
        {
          "output_type": "stream",
          "name": "stdout",
          "text": [
            "Training model...\n",
            "\n",
            "Step      Train loss                                                      Test loss                                                       Test metric\n",
            "0         [3.97e+00, 1.12e+00, 9.02e-04, 4.47e-02, 4.28e-02, 2.64e-01]    [4.12e+00, 9.71e-01, 9.02e-04, 4.47e-02, 4.28e-02, 2.64e-01]    []  \n",
            "1000      [1.83e-02, 2.73e-02, 2.93e-03, 1.93e-03, 5.91e-05, 5.93e-02]    [1.90e-02, 2.64e-02, 2.93e-03, 1.93e-03, 5.91e-05, 5.93e-02]    []  \n",
            "2000      [9.50e-03, 1.56e-02, 5.11e-03, 1.59e-03, 1.50e-04, 4.14e-02]    [9.19e-03, 1.47e-02, 5.11e-03, 1.59e-03, 1.50e-04, 4.14e-02]    []  \n",
            "3000      [5.48e-03, 1.00e-02, 6.15e-03, 1.43e-03, 1.95e-04, 2.67e-02]    [4.99e-03, 9.31e-03, 6.15e-03, 1.43e-03, 1.95e-04, 2.67e-02]    []  \n",
            "4000      [3.45e-03, 6.54e-03, 5.78e-03, 1.40e-03, 2.11e-04, 1.12e-02]    [2.94e-03, 6.16e-03, 5.78e-03, 1.40e-03, 2.11e-04, 1.12e-02]    []  \n",
            "5000      [2.09e-03, 3.44e-03, 5.81e-03, 1.36e-03, 2.14e-04, 4.06e-03]    [1.78e-03, 3.19e-03, 5.81e-03, 1.36e-03, 2.14e-04, 4.06e-03]    []  \n",
            "6000      [2.07e-03, 1.76e-03, 5.76e-03, 1.31e-03, 2.22e-04, 2.28e-03]    [1.81e-03, 1.52e-03, 5.76e-03, 1.31e-03, 2.22e-04, 2.28e-03]    []  \n",
            "7000      [1.23e-03, 1.07e-03, 5.53e-03, 1.26e-03, 2.38e-04, 1.57e-03]    [9.49e-04, 8.91e-04, 5.53e-03, 1.26e-03, 2.38e-04, 1.57e-03]    []  \n",
            "8000      [1.11e-03, 7.96e-04, 5.21e-03, 1.19e-03, 2.63e-04, 1.29e-03]    [8.62e-04, 6.76e-04, 5.21e-03, 1.19e-03, 2.63e-04, 1.29e-03]    []  \n",
            "9000      [8.32e-04, 6.58e-04, 4.71e-03, 1.13e-03, 2.82e-04, 1.22e-03]    [5.58e-04, 5.50e-04, 4.71e-03, 1.13e-03, 2.82e-04, 1.22e-03]    []  \n",
            "10000     [7.11e-04, 5.31e-04, 4.22e-03, 1.12e-03, 2.89e-04, 1.18e-03]    [4.64e-04, 4.10e-04, 4.22e-03, 1.12e-03, 2.89e-04, 1.18e-03]    []  \n",
            "\n",
            "Best model at step 10000:\n",
            "  train loss: 8.06e-03\n",
            "  test loss: 7.69e-03\n",
            "  test metric: []\n",
            "\n",
            "Epoch 10000: saving model to AP1/-10000.ckpt ...\n",
            "\n",
            "'train' took 795.309082 s\n",
            "\n"
          ]
        }
      ],
      "source": [
        "#@title Solution\n",
        "def train_3_phase(out_path):\n",
        "    init_weights = [0,0,0,0,1]\n",
        "\n",
        "    ## Initial phase\n",
        "    model.compile(\"adam\", lr=lr, loss_weights=init_weights)\n",
        "    losshistory, train_state = model.train(iterations=epochs_init, model_save_path = out_path)\n",
        "    ## Main phase\n",
        "    model.compile(\"adam\", lr=lr)\n",
        "    losshistory, train_state = model.train(iterations=epochs_main, model_save_path = out_path)\n",
        "    ## Final phase\n",
        "    model.compile(\"L-BFGS-B\")\n",
        "    losshistory, train_state = model.train(model_save_path = out_path)\n",
        "    return losshistory, train_state\n",
        "\n",
        "def train_1_phase(out_path):\n",
        "    losshistory, train_state = model.train(iterations=10000, model_save_path = out_path)\n",
        "    return losshistory, train_state\n",
        "\n",
        "# stable_init(model)\n",
        "# losshistory, train_state = train_3_phase(model, out_path)\n",
        "losshistory, train_state = train_1_phase(out_path)"
      ]
    },
    {
      "cell_type": "markdown",
      "metadata": {
        "id": "PUD9p7jBuCFi"
      },
      "source": [
        "After training, we can make predictions and check the RMSE for test data."
      ]
    },
    {
      "cell_type": "code",
      "execution_count": 10,
      "metadata": {
        "colab": {
          "base_uri": "https://localhost:8080/"
        },
        "id": "v6TS9Fzyw8m_",
        "outputId": "bfa82494-df75-4d0f-906d-3d1e3a222e0b"
      },
      "outputs": [
        {
          "output_type": "stream",
          "name": "stdout",
          "text": [
            "V RMSE for test data: 0.034236732826085796\n"
          ]
        }
      ],
      "source": [
        "pred = model.predict(observe_test)\n",
        "v_pred = pred[:,0:1]\n",
        "rmse_v = np.sqrt(np.square(v_pred - v_test).mean())\n",
        "print(\"V RMSE for test data:\", rmse_v)\n",
        "\n",
        "pred_2 = model.predict(observe_x)\n",
        "v_pred_model = pred_2[:,0:1]\n",
        "np.savetxt(\"v_pred_model_spiral.txt\",np.hstack((observe_x,v_pred_model)),header=\"observe_x, v_pred_model\")\n",
        "\n",
        "dicti = {'pred': pred,'observe_test': observe_test, 'observe_train': observe_train, 'pred_all': pred_2, 'observe_x': observe_x, 'rmse_v': rmse_v}\n",
        "scipy.io.savemat('out_path' + 'results.mat',dicti)"
      ]
    },
    {
      "cell_type": "markdown",
      "metadata": {
        "id": "t1VL_SHwuMYo"
      },
      "source": [
        "Visualing the results at a user-defined position."
      ]
    },
    {
      "cell_type": "code",
      "execution_count": 11,
      "metadata": {
        "colab": {
          "base_uri": "https://localhost:8080/",
          "height": 489
        },
        "id": "xYf8DYE5w8m_",
        "outputId": "f0b00e2d-7142-4d84-a27f-5b00d76d729d"
      },
      "outputs": [
        {
          "output_type": "stream",
          "name": "stdout",
          "text": [
            "8.8\n"
          ]
        },
        {
          "output_type": "display_data",
          "data": {
            "text/plain": [
              "<Figure size 640x480 with 1 Axes>"
            ],
            "image/png": "[encoded data removed]"
          },
          "metadata": {}
        }
      ],
      "source": [
        "ind=observe_test[163965,0:2]\n",
        "print(ind[1])\n",
        "a=np.squeeze(np.isclose(observe_test[:,0:1],ind[0]))\n",
        "b=np.squeeze(np.isclose(observe_test[:,1:2],ind[1]))\n",
        "c=np.logical_and(a,b)\n",
        "plt.plot(observe_test[c,2],pred[c,0:1],'o',label='Test')\n",
        "\n",
        "a=np.squeeze(np.isclose(observe_x[:,0:1],ind[0]))\n",
        "b=np.squeeze(np.isclose(observe_x[:,1:2],ind[1]))\n",
        "c=np.logical_and(a,b)\n",
        "plt.plot(observe_x[c,2],vlin[c],'-',label='GT')\n",
        "\n",
        "plt.plot(observe_x[c,2],pred_2[c,0:1],':',label='Train and Test')\n",
        "\n",
        "plt.legend()\n",
        "plt.title('V at x:' + str(ind[0]) + ', y:' + str(ind[1]))\n",
        "plt.ylabel('V (AU)')\n",
        "plt.xlabel('time (AU)')\n",
        "plt.show()"
      ]
    },
    {
      "cell_type": "markdown",
      "metadata": {
        "id": "r__3LWHjN-Wb"
      },
      "source": []
    }
  ],
  "metadata": {
    "colab": {
      "provenance": [],
      "gpuType": "T4",
      "include_colab_link": true
    },
    "kernelspec": {
      "display_name": "PC_PINNs",
      "language": "python",
      "name": "pc_pinns"
    },
    "language_info": {
      "codemirror_mode": {
        "name": "ipython",
        "version": 3
      },
      "file_extension": ".py",
      "mimetype": "text/x-python",
      "name": "python",
      "nbconvert_exporter": "python",
      "pygments_lexer": "ipython3",
      "version": "3.12.4"
    },
    "accelerator": "GPU"
  },
  "nbformat": 4,
  "nbformat_minor": 0
}